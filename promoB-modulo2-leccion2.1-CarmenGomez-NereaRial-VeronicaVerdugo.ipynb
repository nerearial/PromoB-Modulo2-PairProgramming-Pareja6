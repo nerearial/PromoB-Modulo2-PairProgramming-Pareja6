{
 "cells": [
  {
   "cell_type": "code",
   "execution_count": 1,
   "metadata": {},
   "outputs": [],
   "source": [
    "# EJERCICIO 1 - APIs\n",
    "\n",
    "# para hacer solicitudes HTTP\n",
    "import requests\n",
    "\n",
    "# para manipulación de datos\n",
    "import pandas as pd"
   ]
  },
  {
   "cell_type": "code",
   "execution_count": 10,
   "metadata": {},
   "outputs": [],
   "source": [
    "# cada una pone la kpi que haya generado\n",
    "\n",
    "api_key = \"12b5dc93-7799-439e-ac66-3b0eda416a3f\"\n",
    "\n",
    "# 12b5dc93-7799-439e-ac66-3b0eda416a3f - este es el apikey que sacó Nerea\n",
    "\n",
    "# Primero hacemos \n",
    "\n",
    "jugadores = {\"nombres\":[], \"apellidos\":[], \"equipo\":[]}\n",
    "\n",
    "# Estos son los parámetros de la solicitud. Vamos a pedir los 200 jugadores, para que nos muestre 100 por página:\n",
    "parametros = {'page': 200,'per_page': 100}\n",
    "\n",
    "res_jugadores = requests.get(f\"http://api.balldontlie.io/v1/players\", params = parametros, headers = {'Authorization': api_key} ) \n",
    "\n",
    "# llamada de los jugadores:\n",
    "# el json() nos sirve para estructurar los datos que intercambian el servidor y la llamada\n",
    "\n",
    "res_jugadores = res_jugadores.json()\n"
   ]
  },
  {
   "cell_type": "code",
   "execution_count": 11,
   "metadata": {},
   "outputs": [
    {
     "data": {
      "text/html": [
       "<div>\n",
       "<style scoped>\n",
       "    .dataframe tbody tr th:only-of-type {\n",
       "        vertical-align: middle;\n",
       "    }\n",
       "\n",
       "    .dataframe tbody tr th {\n",
       "        vertical-align: top;\n",
       "    }\n",
       "\n",
       "    .dataframe thead th {\n",
       "        text-align: right;\n",
       "    }\n",
       "</style>\n",
       "<table border=\"1\" class=\"dataframe\">\n",
       "  <thead>\n",
       "    <tr style=\"text-align: right;\">\n",
       "      <th></th>\n",
       "      <th>nombres</th>\n",
       "      <th>apellidos</th>\n",
       "      <th>equipo</th>\n",
       "    </tr>\n",
       "  </thead>\n",
       "  <tbody>\n",
       "    <tr>\n",
       "      <th>0</th>\n",
       "      <td>Alex</td>\n",
       "      <td>Abrines</td>\n",
       "      <td>{'id': 21, 'conference': 'West', 'division': '...</td>\n",
       "    </tr>\n",
       "    <tr>\n",
       "      <th>1</th>\n",
       "      <td>Jaylen</td>\n",
       "      <td>Adams</td>\n",
       "      <td>{'id': 1, 'conference': 'East', 'division': 'S...</td>\n",
       "    </tr>\n",
       "    <tr>\n",
       "      <th>2</th>\n",
       "      <td>Steven</td>\n",
       "      <td>Adams</td>\n",
       "      <td>{'id': 11, 'conference': 'West', 'division': '...</td>\n",
       "    </tr>\n",
       "    <tr>\n",
       "      <th>3</th>\n",
       "      <td>Bam</td>\n",
       "      <td>Adebayo</td>\n",
       "      <td>{'id': 16, 'conference': 'East', 'division': '...</td>\n",
       "    </tr>\n",
       "    <tr>\n",
       "      <th>4</th>\n",
       "      <td>DeVaughn</td>\n",
       "      <td>Akoon-Purcell</td>\n",
       "      <td>{'id': 8, 'conference': 'West', 'division': 'N...</td>\n",
       "    </tr>\n",
       "    <tr>\n",
       "      <th>...</th>\n",
       "      <td>...</td>\n",
       "      <td>...</td>\n",
       "      <td>...</td>\n",
       "    </tr>\n",
       "    <tr>\n",
       "      <th>195</th>\n",
       "      <td>Joe</td>\n",
       "      <td>Chealey</td>\n",
       "      <td>{'id': 4, 'conference': 'East', 'division': 'S...</td>\n",
       "    </tr>\n",
       "    <tr>\n",
       "      <th>196</th>\n",
       "      <td>Marquese</td>\n",
       "      <td>Chriss</td>\n",
       "      <td>{'id': 7, 'conference': 'West', 'division': 'S...</td>\n",
       "    </tr>\n",
       "    <tr>\n",
       "      <th>197</th>\n",
       "      <td>Gary</td>\n",
       "      <td>Clark</td>\n",
       "      <td>{'id': 19, 'conference': 'West', 'division': '...</td>\n",
       "    </tr>\n",
       "    <tr>\n",
       "      <th>198</th>\n",
       "      <td>Ian</td>\n",
       "      <td>Clark</td>\n",
       "      <td>{'id': 10, 'conference': 'West', 'division': '...</td>\n",
       "    </tr>\n",
       "    <tr>\n",
       "      <th>199</th>\n",
       "      <td>Jordan</td>\n",
       "      <td>Clarkson</td>\n",
       "      <td>{'id': 29, 'conference': 'West', 'division': '...</td>\n",
       "    </tr>\n",
       "  </tbody>\n",
       "</table>\n",
       "<p>200 rows × 3 columns</p>\n",
       "</div>"
      ],
      "text/plain": [
       "      nombres      apellidos  \\\n",
       "0        Alex        Abrines   \n",
       "1      Jaylen          Adams   \n",
       "2      Steven          Adams   \n",
       "3         Bam        Adebayo   \n",
       "4    DeVaughn  Akoon-Purcell   \n",
       "..        ...            ...   \n",
       "195       Joe        Chealey   \n",
       "196  Marquese         Chriss   \n",
       "197      Gary          Clark   \n",
       "198       Ian          Clark   \n",
       "199    Jordan       Clarkson   \n",
       "\n",
       "                                                equipo  \n",
       "0    {'id': 21, 'conference': 'West', 'division': '...  \n",
       "1    {'id': 1, 'conference': 'East', 'division': 'S...  \n",
       "2    {'id': 11, 'conference': 'West', 'division': '...  \n",
       "3    {'id': 16, 'conference': 'East', 'division': '...  \n",
       "4    {'id': 8, 'conference': 'West', 'division': 'N...  \n",
       "..                                                 ...  \n",
       "195  {'id': 4, 'conference': 'East', 'division': 'S...  \n",
       "196  {'id': 7, 'conference': 'West', 'division': 'S...  \n",
       "197  {'id': 19, 'conference': 'West', 'division': '...  \n",
       "198  {'id': 10, 'conference': 'West', 'division': '...  \n",
       "199  {'id': 29, 'conference': 'West', 'division': '...  \n",
       "\n",
       "[200 rows x 3 columns]"
      ]
     },
     "execution_count": 11,
     "metadata": {},
     "output_type": "execute_result"
    }
   ],
   "source": [
    "# Explicacion del FOR: por cada página en el rango primera página a la tercera, metemos otro for dentro, para recorrer todos los jugadores:\n",
    "\n",
    "for page in range(1, 3):\n",
    "    for jugador in res_jugadores[\"data\"]:\n",
    "        jugadores[\"nombres\"].append(jugador[\"first_name\"])\n",
    "        jugadores[\"apellidos\"].append(jugador[\"last_name\"])\n",
    "        jugadores[\"equipo\"].append(jugador[\"team\"])\n",
    "\n",
    "# estructuracion de datos\n",
    "\n",
    "dataframe_jugadores = pd.DataFrame(jugadores)\n",
    "dataframe_jugadores"
   ]
  },
  {
   "cell_type": "code",
   "execution_count": 26,
   "metadata": {},
   "outputs": [
    {
     "data": {
      "text/plain": [
       "<Response [401]>"
      ]
     },
     "execution_count": 26,
     "metadata": {},
     "output_type": "execute_result"
    }
   ],
   "source": [
    "partidos_request = requests.get(f\"https://api.balldontlie.io/v1/games?per_page=100?page={pagina}\" )\n",
    "partidos_request"
   ]
  },
  {
   "cell_type": "code",
   "execution_count": 23,
   "metadata": {},
   "outputs": [
    {
     "name": "stdout",
     "output_type": "stream",
     "text": [
      "Error al realizar la solicitud en la página 1: Expecting value: line 1 column 1 (char 0)\n",
      "Error al realizar la solicitud en la página 2: Expecting value: line 1 column 1 (char 0)\n"
     ]
    },
    {
     "data": {
      "text/html": [
       "<div>\n",
       "<style scoped>\n",
       "    .dataframe tbody tr th:only-of-type {\n",
       "        vertical-align: middle;\n",
       "    }\n",
       "\n",
       "    .dataframe tbody tr th {\n",
       "        vertical-align: top;\n",
       "    }\n",
       "\n",
       "    .dataframe thead th {\n",
       "        text-align: right;\n",
       "    }\n",
       "</style>\n",
       "<table border=\"1\" class=\"dataframe\">\n",
       "  <thead>\n",
       "    <tr style=\"text-align: right;\">\n",
       "      <th></th>\n",
       "      <th>equipo_local</th>\n",
       "      <th>equipo_visitante</th>\n",
       "      <th>puntos_local</th>\n",
       "      <th>puntos_visitante</th>\n",
       "      <th>temporada</th>\n",
       "    </tr>\n",
       "  </thead>\n",
       "  <tbody>\n",
       "  </tbody>\n",
       "</table>\n",
       "</div>"
      ],
      "text/plain": [
       "Empty DataFrame\n",
       "Columns: [equipo_local, equipo_visitante, puntos_local, puntos_visitante, temporada]\n",
       "Index: []"
      ]
     },
     "execution_count": 23,
     "metadata": {},
     "output_type": "execute_result"
    }
   ],
   "source": [
    "# Extraer la información de 200 partidos:\n",
    "\n",
    "partidos = {\"equipo_local\":[], \"equipo_visitante\":[],\"puntos_local\":[], \"puntos_visitante\": [],\"temporada\":[]}\n",
    "\n",
    "# Hacemos el request dentro del for porque se hace un request por cada página.\n",
    "\n",
    "for pagina in range (1, 3):\n",
    "\n",
    "    try:\n",
    "        partidos_request = requests.get(f\"https://api.balldontlie.io/api/v1/games?per_page=100?page={pagina}\" ) \n",
    "        partidos_request = partidos_request.json()\n",
    "\n",
    "        for partido in partidos_request[\"data\"]:\n",
    "            partidos[\"equipo_local\"].append(partido[\"home_team\"][\"full_name\"])\n",
    "            partidos[\"equipo_visitante\"].append(partido[\"visitor_team\"][\"full_name\"])\n",
    "            partidos[\"puntos_local\"].append(partido[\"home_team_score\"])\n",
    "            partidos[\"puntos_visitante\"].append(partido[\"visitor_team_score\"])   \n",
    "            partidos[\"temporada\"].append(partido[\"season\"]) \n",
    "\n",
    "    except requests.exceptions.RequestException as e:\n",
    "        print(f\"Error al realizar la solicitud en la página {pagina}: {e}\")\n",
    "    \n",
    "    except ValueError as e:\n",
    "\n",
    "        print(f\"Error al convertir la respuesta a JSON en la página {pagina}: {e}\")\n",
    "\n",
    "\n",
    "partidos_dataframe = pd.DataFrame(partidos)                          \n",
    "partidos_dataframe\n"
   ]
  },
  {
   "cell_type": "code",
   "execution_count": 27,
   "metadata": {},
   "outputs": [
    {
     "ename": "JSONDecodeError",
     "evalue": "Expecting value: line 2 column 1 (char 1)",
     "output_type": "error",
     "traceback": [
      "\u001b[1;31m---------------------------------------------------------------------------\u001b[0m",
      "\u001b[1;31mJSONDecodeError\u001b[0m                           Traceback (most recent call last)",
      "File \u001b[1;32mc:\\Users\\Nerea\\anaconda3\\Lib\\site-packages\\requests\\models.py:971\u001b[0m, in \u001b[0;36mResponse.json\u001b[1;34m(self, **kwargs)\u001b[0m\n\u001b[0;32m    970\u001b[0m \u001b[38;5;28;01mtry\u001b[39;00m:\n\u001b[1;32m--> 971\u001b[0m     \u001b[38;5;28;01mreturn\u001b[39;00m complexjson\u001b[38;5;241m.\u001b[39mloads(\u001b[38;5;28mself\u001b[39m\u001b[38;5;241m.\u001b[39mtext, \u001b[38;5;241m*\u001b[39m\u001b[38;5;241m*\u001b[39mkwargs)\n\u001b[0;32m    972\u001b[0m \u001b[38;5;28;01mexcept\u001b[39;00m JSONDecodeError \u001b[38;5;28;01mas\u001b[39;00m e:\n\u001b[0;32m    973\u001b[0m     \u001b[38;5;66;03m# Catch JSON-related errors and raise as requests.JSONDecodeError\u001b[39;00m\n\u001b[0;32m    974\u001b[0m     \u001b[38;5;66;03m# This aliases json.JSONDecodeError and simplejson.JSONDecodeError\u001b[39;00m\n",
      "File \u001b[1;32mc:\\Users\\Nerea\\anaconda3\\Lib\\json\\__init__.py:346\u001b[0m, in \u001b[0;36mloads\u001b[1;34m(s, cls, object_hook, parse_float, parse_int, parse_constant, object_pairs_hook, **kw)\u001b[0m\n\u001b[0;32m    343\u001b[0m \u001b[38;5;28;01mif\u001b[39;00m (\u001b[38;5;28mcls\u001b[39m \u001b[38;5;129;01mis\u001b[39;00m \u001b[38;5;28;01mNone\u001b[39;00m \u001b[38;5;129;01mand\u001b[39;00m object_hook \u001b[38;5;129;01mis\u001b[39;00m \u001b[38;5;28;01mNone\u001b[39;00m \u001b[38;5;129;01mand\u001b[39;00m\n\u001b[0;32m    344\u001b[0m         parse_int \u001b[38;5;129;01mis\u001b[39;00m \u001b[38;5;28;01mNone\u001b[39;00m \u001b[38;5;129;01mand\u001b[39;00m parse_float \u001b[38;5;129;01mis\u001b[39;00m \u001b[38;5;28;01mNone\u001b[39;00m \u001b[38;5;129;01mand\u001b[39;00m\n\u001b[0;32m    345\u001b[0m         parse_constant \u001b[38;5;129;01mis\u001b[39;00m \u001b[38;5;28;01mNone\u001b[39;00m \u001b[38;5;129;01mand\u001b[39;00m object_pairs_hook \u001b[38;5;129;01mis\u001b[39;00m \u001b[38;5;28;01mNone\u001b[39;00m \u001b[38;5;129;01mand\u001b[39;00m \u001b[38;5;129;01mnot\u001b[39;00m kw):\n\u001b[1;32m--> 346\u001b[0m     \u001b[38;5;28;01mreturn\u001b[39;00m _default_decoder\u001b[38;5;241m.\u001b[39mdecode(s)\n\u001b[0;32m    347\u001b[0m \u001b[38;5;28;01mif\u001b[39;00m \u001b[38;5;28mcls\u001b[39m \u001b[38;5;129;01mis\u001b[39;00m \u001b[38;5;28;01mNone\u001b[39;00m:\n",
      "File \u001b[1;32mc:\\Users\\Nerea\\anaconda3\\Lib\\json\\decoder.py:337\u001b[0m, in \u001b[0;36mJSONDecoder.decode\u001b[1;34m(self, s, _w)\u001b[0m\n\u001b[0;32m    333\u001b[0m \u001b[38;5;250m\u001b[39m\u001b[38;5;124;03m\"\"\"Return the Python representation of ``s`` (a ``str`` instance\u001b[39;00m\n\u001b[0;32m    334\u001b[0m \u001b[38;5;124;03mcontaining a JSON document).\u001b[39;00m\n\u001b[0;32m    335\u001b[0m \n\u001b[0;32m    336\u001b[0m \u001b[38;5;124;03m\"\"\"\u001b[39;00m\n\u001b[1;32m--> 337\u001b[0m obj, end \u001b[38;5;241m=\u001b[39m \u001b[38;5;28mself\u001b[39m\u001b[38;5;241m.\u001b[39mraw_decode(s, idx\u001b[38;5;241m=\u001b[39m_w(s, \u001b[38;5;241m0\u001b[39m)\u001b[38;5;241m.\u001b[39mend())\n\u001b[0;32m    338\u001b[0m end \u001b[38;5;241m=\u001b[39m _w(s, end)\u001b[38;5;241m.\u001b[39mend()\n",
      "File \u001b[1;32mc:\\Users\\Nerea\\anaconda3\\Lib\\json\\decoder.py:355\u001b[0m, in \u001b[0;36mJSONDecoder.raw_decode\u001b[1;34m(self, s, idx)\u001b[0m\n\u001b[0;32m    354\u001b[0m \u001b[38;5;28;01mexcept\u001b[39;00m \u001b[38;5;167;01mStopIteration\u001b[39;00m \u001b[38;5;28;01mas\u001b[39;00m err:\n\u001b[1;32m--> 355\u001b[0m     \u001b[38;5;28;01mraise\u001b[39;00m JSONDecodeError(\u001b[38;5;124m\"\u001b[39m\u001b[38;5;124mExpecting value\u001b[39m\u001b[38;5;124m\"\u001b[39m, s, err\u001b[38;5;241m.\u001b[39mvalue) \u001b[38;5;28;01mfrom\u001b[39;00m \u001b[38;5;28;01mNone\u001b[39;00m\n\u001b[0;32m    356\u001b[0m \u001b[38;5;28;01mreturn\u001b[39;00m obj, end\n",
      "\u001b[1;31mJSONDecodeError\u001b[0m: Expecting value: line 2 column 1 (char 1)",
      "\nDuring handling of the above exception, another exception occurred:\n",
      "\u001b[1;31mJSONDecodeError\u001b[0m                           Traceback (most recent call last)",
      "Cell \u001b[1;32mIn[27], line 6\u001b[0m\n\u001b[0;32m      3\u001b[0m \u001b[38;5;28;01mfor\u001b[39;00m pagina \u001b[38;5;129;01min\u001b[39;00m \u001b[38;5;28mrange\u001b[39m(\u001b[38;5;241m1\u001b[39m, \u001b[38;5;241m3\u001b[39m):\n\u001b[0;32m      5\u001b[0m     res_partidos \u001b[38;5;241m=\u001b[39m requests\u001b[38;5;241m.\u001b[39mget(\u001b[38;5;124mf\u001b[39m\u001b[38;5;124m\"\u001b[39m\u001b[38;5;124mhttps://www.balldontlie.io/api/v1/games?per_page=100?page=\u001b[39m\u001b[38;5;132;01m{\u001b[39;00mpagina\u001b[38;5;132;01m}\u001b[39;00m\u001b[38;5;124m\"\u001b[39m)\n\u001b[1;32m----> 6\u001b[0m     res_partidos \u001b[38;5;241m=\u001b[39m res_partidos\u001b[38;5;241m.\u001b[39mjson()\n\u001b[0;32m      9\u001b[0m     \u001b[38;5;28;01mfor\u001b[39;00m partido \u001b[38;5;129;01min\u001b[39;00m res_partidos[\u001b[38;5;124m\"\u001b[39m\u001b[38;5;124mdata\u001b[39m\u001b[38;5;124m\"\u001b[39m]:\n\u001b[0;32m     10\u001b[0m         partidos[\u001b[38;5;124m\"\u001b[39m\u001b[38;5;124mequipo_local\u001b[39m\u001b[38;5;124m\"\u001b[39m]\u001b[38;5;241m.\u001b[39mappend(partido[\u001b[38;5;124m\"\u001b[39m\u001b[38;5;124mhome_team\u001b[39m\u001b[38;5;124m\"\u001b[39m][\u001b[38;5;124m\"\u001b[39m\u001b[38;5;124mfull_name\u001b[39m\u001b[38;5;124m\"\u001b[39m])\n",
      "File \u001b[1;32mc:\\Users\\Nerea\\anaconda3\\Lib\\site-packages\\requests\\models.py:975\u001b[0m, in \u001b[0;36mResponse.json\u001b[1;34m(self, **kwargs)\u001b[0m\n\u001b[0;32m    971\u001b[0m     \u001b[38;5;28;01mreturn\u001b[39;00m complexjson\u001b[38;5;241m.\u001b[39mloads(\u001b[38;5;28mself\u001b[39m\u001b[38;5;241m.\u001b[39mtext, \u001b[38;5;241m*\u001b[39m\u001b[38;5;241m*\u001b[39mkwargs)\n\u001b[0;32m    972\u001b[0m \u001b[38;5;28;01mexcept\u001b[39;00m JSONDecodeError \u001b[38;5;28;01mas\u001b[39;00m e:\n\u001b[0;32m    973\u001b[0m     \u001b[38;5;66;03m# Catch JSON-related errors and raise as requests.JSONDecodeError\u001b[39;00m\n\u001b[0;32m    974\u001b[0m     \u001b[38;5;66;03m# This aliases json.JSONDecodeError and simplejson.JSONDecodeError\u001b[39;00m\n\u001b[1;32m--> 975\u001b[0m     \u001b[38;5;28;01mraise\u001b[39;00m RequestsJSONDecodeError(e\u001b[38;5;241m.\u001b[39mmsg, e\u001b[38;5;241m.\u001b[39mdoc, e\u001b[38;5;241m.\u001b[39mpos)\n",
      "\u001b[1;31mJSONDecodeError\u001b[0m: Expecting value: line 2 column 1 (char 1)"
     ]
    }
   ],
   "source": [
    "# ESTE ES EL DE LOS EJERCICIOS RESUELTOS:\n",
    "\n",
    "partidos = {\"equipo_local\": [], \"equipo_visitante\": [], \"puntos_local\": [], \"puntos_visitante\": [], \"temporada\": []}\n",
    "\n",
    "for pagina in range(1, 3):\n",
    "        \n",
    "    res_partidos = requests.get(f\"https://www.balldontlie.io/api/v1/games?per_page=100?page={pagina}\")\n",
    "    res_partidos = res_partidos.json()\n",
    "\n",
    "    \n",
    "    for partido in res_partidos[\"data\"]:\n",
    "        partidos[\"equipo_local\"].append(partido[\"home_team\"][\"full_name\"])\n",
    "        partidos[\"equipo_visitante\"].append(partido[\"visitor_team\"][\"full_name\"])\n",
    "        partidos[\"puntos_local\"].append(partido[\"home_team_score\"])  \n",
    "        partidos[\"puntos_visitante\"].append(partido[\"visitor_team_score\"])   \n",
    "        partidos[\"temporada\"].append(partido[\"season\"]) \n",
    "\n",
    "df_partidos = pd.DataFrame(partidos)\n",
    "df_partidos"
   ]
  },
  {
   "cell_type": "code",
   "execution_count": 16,
   "metadata": {},
   "outputs": [
    {
     "data": {
      "text/plain": [
       "dict_keys(['data', 'meta'])"
      ]
     },
     "execution_count": 16,
     "metadata": {},
     "output_type": "execute_result"
    }
   ],
   "source": [
    "# Buscar el nombre, apellidos, y equipo de los 200 jugadores de la NBA\n",
    "\n",
    "jugadores = llamada.json()\n",
    "\n",
    "jugadores.keys()"
   ]
  },
  {
   "cell_type": "code",
   "execution_count": null,
   "metadata": {},
   "outputs": [],
   "source": [
    "print"
   ]
  },
  {
   "cell_type": "code",
   "execution_count": 27,
   "metadata": {},
   "outputs": [
    {
     "ename": "NameError",
     "evalue": "name 'data' is not defined",
     "output_type": "error",
     "traceback": [
      "\u001b[1;31m---------------------------------------------------------------------------\u001b[0m",
      "\u001b[1;31mNameError\u001b[0m                                 Traceback (most recent call last)",
      "Cell \u001b[1;32mIn[27], line 8\u001b[0m\n\u001b[0;32m      5\u001b[0m \u001b[38;5;66;03m# diccionario_jugadores = {\"first_name\":[],\"last_name\":[],\"team\":[]}\u001b[39;00m\n\u001b[0;32m      7\u001b[0m \u001b[38;5;28;01mfor\u001b[39;00m jugador \u001b[38;5;129;01min\u001b[39;00m jugadores:\n\u001b[1;32m----> 8\u001b[0m     diccionario_jugadores[\u001b[38;5;124m\"\u001b[39m\u001b[38;5;124mfirst_name\u001b[39m\u001b[38;5;124m\"\u001b[39m]\u001b[38;5;241m.\u001b[39mappend(\u001b[43mdata\u001b[49m[first_name])\n\u001b[0;32m     10\u001b[0m \u001b[38;5;28mprint\u001b[39m(diccionario_jugadores[\u001b[38;5;124m\"\u001b[39m\u001b[38;5;124mfirst_name\u001b[39m\u001b[38;5;124m\"\u001b[39m])\n",
      "\u001b[1;31mNameError\u001b[0m: name 'data' is not defined"
     ]
    }
   ],
   "source": [
    "# fist_name, last_name\n",
    "# ojo team es otro diccionario donde tiene datos del equipo: team:name\n",
    "\n",
    "diccionario_jugadores = {\"first_name\":[]}\n",
    "# diccionario_jugadores = {\"first_name\":[],\"last_name\":[],\"team\":[]}\n",
    "\n",
    "for jugador in jugadores:\n",
    "    diccionario_jugadores[\"first_name\"].append(data[first_name])\n",
    "\n",
    "\n",
    "print(diccionario_jugadores[data])\n",
    "\n",
    "\n",
    "\n"
   ]
  },
  {
   "cell_type": "code",
   "execution_count": null,
   "metadata": {},
   "outputs": [],
   "source": [
    "def mostrar_informacion(url):\n",
    "    global informacion_jugadores\n",
    "    informacion_jugadores = []\n",
    "    for jugador in jugadores:\n",
    "        "
   ]
  },
  {
   "cell_type": "markdown",
   "metadata": {},
   "source": [
    "## PARTE 2 WEB SCRAPPING\n"
   ]
  },
  {
   "cell_type": "markdown",
   "metadata": {},
   "source": []
  }
 ],
 "metadata": {
  "kernelspec": {
   "display_name": "Python 3",
   "language": "python",
   "name": "python3"
  },
  "language_info": {
   "codemirror_mode": {
    "name": "ipython",
    "version": 3
   },
   "file_extension": ".py",
   "mimetype": "text/x-python",
   "name": "python",
   "nbconvert_exporter": "python",
   "pygments_lexer": "ipython3",
   "version": "3.11.7"
  }
 },
 "nbformat": 4,
 "nbformat_minor": 2
}
