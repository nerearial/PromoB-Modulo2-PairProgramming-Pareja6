{
 "cells": [
  {
   "cell_type": "code",
   "execution_count": 2,
   "metadata": {},
   "outputs": [],
   "source": [
    "# Importar librerías para tratamiento de datos\n",
    "# -----------------------------------------------------------------------\n",
    "import pandas as pd  # Pandas es una poderosa librería para manipulación y análisis de datos en Python.\n",
    "# Importar librerías para web scraping y manipulación de datos\n",
    "# -----------------------------------------------------------------------\n",
    "from bs4 import BeautifulSoup\n",
    "import requests\n",
    "# Importar librerías para automatización de navegadores web con Selenium\n",
    "# -----------------------------------------------------------------------\n",
    "from selenium import webdriver  # Selenium es una herramienta para automatizar la interacción con navegadores web.\n",
    "from webdriver_manager.chrome import ChromeDriverManager  # ChromeDriverManager gestiona la instalación del controlador de Chrome.\n",
    "from selenium.webdriver.common.keys import Keys  # Keys es útil para simular eventos de teclado en Selenium.\n",
    "from selenium.webdriver.support.ui import Select  # Select se utiliza para interactuar con elementos <select> en páginas web.\n",
    "# Importar librerías para pausar la ejecución\n",
    "# -----------------------------------------------------------------------\n",
    "from time import sleep"
   ]
  },
  {
   "cell_type": "code",
   "execution_count": 5,
   "metadata": {},
   "outputs": [
    {
     "name": "stdout",
     "output_type": "stream",
     "text": [
      "Abrir web Decathlon\n",
      "Pantalla maximizada\n",
      "Cookies aceptadas.\n",
      "Acceder a sección deseada\n"
     ]
    },
    {
     "ename": "KeyError",
     "evalue": "'nombres'",
     "output_type": "error",
     "traceback": [
      "\u001b[1;31m---------------------------------------------------------------------------\u001b[0m",
      "\u001b[1;31mKeyError\u001b[0m                                  Traceback (most recent call last)",
      "Cell \u001b[1;32mIn[5], line 30\u001b[0m\n\u001b[0;32m     28\u001b[0m     sleep(\u001b[38;5;241m2\u001b[39m)\n\u001b[0;32m     29\u001b[0m     driver\u001b[38;5;241m.\u001b[39mfind_element(\u001b[38;5;124m\"\u001b[39m\u001b[38;5;124mcss selector\u001b[39m\u001b[38;5;124m\"\u001b[39m, \u001b[38;5;124mf\u001b[39m\u001b[38;5;124m\"\u001b[39m\u001b[38;5;124m#app > main > div.list-body.svelte-duar7s > section.listing-section.svelte-duar7s > div > div:nth-child(1)\u001b[39m\u001b[38;5;124m\"\u001b[39m)\u001b[38;5;241m.\u001b[39mclick()\n\u001b[1;32m---> 30\u001b[0m     diccionario_productos[\u001b[38;5;124m\"\u001b[39m\u001b[38;5;124mnombres\u001b[39m\u001b[38;5;124m\"\u001b[39m]\u001b[38;5;241m.\u001b[39mappend(driver\u001b[38;5;241m.\u001b[39mfind_element(\u001b[38;5;124m\"\u001b[39m\u001b[38;5;124mcss selector\u001b[39m\u001b[38;5;124m\"\u001b[39m, \u001b[38;5;124m\"\u001b[39m\u001b[38;5;124m#app > main > div.list-body.svelte-duar7s > section.listing-section.svelte-duar7s > div > div:nth-child(1) > div.product-block-top-main.vtmn-relative.vtmn-flex.vtmn-flex-col.vtmn-w-full.vtmn-items-start > a.vtmn-block.vtmn-w-full.vtmn-no-underline.gt-small-desktop\u001b[39m\u001b[38;5;124m\\\u001b[39m\u001b[38;5;124m:vtmn-leading-normal.vtmn-uppercase.vtmn-text-left.vtmn-mt-1.product-title\u001b[39m\u001b[38;5;124m\"\u001b[39m)\u001b[38;5;241m.\u001b[39mtext)\n\u001b[0;32m     31\u001b[0m     sleep(\u001b[38;5;241m3\u001b[39m)\n\u001b[0;32m     32\u001b[0m driver\u001b[38;5;241m.\u001b[39mback()\n",
      "\u001b[1;31mKeyError\u001b[0m: 'nombres'"
     ]
    }
   ],
   "source": [
    "#Abrimos navegador y maximizamos la ventana \n",
    "\n",
    "driver = webdriver.Chrome()\n",
    "url = \"https://www.decathlon.es/es/\"\n",
    "\n",
    "driver.get(url)\n",
    "print(\"Abrir web Decathlon\")\n",
    "driver.maximize_window()\n",
    "print(\"Pantalla maximizada\")\n",
    "\n",
    "sleep(2)\n",
    "\n",
    "#Aceptar cookies\n",
    "driver.find_element(\"css selector\", \"#didomi-notice-agree-button\").click()\n",
    "print(\"Cookies aceptadas.\")\n",
    "\n",
    "# Buscar prodcutos a través de input\n",
    "producto_deseado = input(\"¿Qué producto deseas buscar?\")\n",
    "diccionario_productos = {\"nombre\":[], \"precio\":[],\"puntuación\":[]}\n",
    "\n",
    "driver.find_element(\"css selector\", \"#search-bar > div > form > input\").send_keys(producto_deseado,Keys.ENTER)\n",
    "print(\"Acceder a sección deseada\")\n",
    "\n",
    "sleep(2)\n",
    "\n",
    "# iterar 5 primeros productos\n",
    "for child in range(1,6):\n",
    "    sleep(2)\n",
    "    driver.find_element(\"css selector\", f\"#app > main > div.list-body.svelte-duar7s > section.listing-section.svelte-duar7s > div > div:nth-child(1)\").click()\n",
    "    diccionario_productos[\"nombres\"].append(driver.find_element(\"css selector\", \"#app > main > div.list-body.svelte-duar7s > section.listing-section.svelte-duar7s > div > div:nth-child(1) > div.product-block-top-main.vtmn-relative.vtmn-flex.vtmn-flex-col.vtmn-w-full.vtmn-items-start > a.vtmn-block.vtmn-w-full.vtmn-no-underline.gt-small-desktop\\:vtmn-leading-normal.vtmn-uppercase.vtmn-text-left.vtmn-mt-1.product-title\").text)\n",
    "    sleep(3)\n",
    "driver.back()\n",
    "\n",
    "\n",
    "\n",
    "\n",
    "\n"
   ]
  },
  {
   "cell_type": "markdown",
   "metadata": {},
   "source": [
    "#didomi-notice-agree-button > span"
   ]
  }
 ],
 "metadata": {
  "kernelspec": {
   "display_name": "base",
   "language": "python",
   "name": "python3"
  },
  "language_info": {
   "codemirror_mode": {
    "name": "ipython",
    "version": 3
   },
   "file_extension": ".py",
   "mimetype": "text/x-python",
   "name": "python",
   "nbconvert_exporter": "python",
   "pygments_lexer": "ipython3",
   "version": "3.11.7"
  }
 },
 "nbformat": 4,
 "nbformat_minor": 2
}
