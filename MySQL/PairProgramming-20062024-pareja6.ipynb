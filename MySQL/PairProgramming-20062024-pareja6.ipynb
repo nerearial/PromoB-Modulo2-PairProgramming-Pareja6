{
 "cells": [
  {
   "cell_type": "code",
   "execution_count": 9,
   "metadata": {},
   "outputs": [],
   "source": [
    "# Importar las librerías que necesitamos:\n",
    "import mysql.connector\n",
    "from mysql.connector import errorcode\n"
   ]
  },
  {
   "cell_type": "code",
   "execution_count": 10,
   "metadata": {},
   "outputs": [],
   "source": [
    "# Importamos pandas para manipular y analizar datos:\n",
    "import pandas as pd\n",
    "import numpy as np"
   ]
  },
  {
   "cell_type": "code",
   "execution_count": 12,
   "metadata": {},
   "outputs": [
    {
     "name": "stdout",
     "output_type": "stream",
     "text": [
      "La conexión no se produjo.\n"
     ]
    }
   ],
   "source": [
    "# 1. Haz las importaciones necesarias para establecer \n",
    "# la conexión y trabajar con Pandas.Establece la conexión \n",
    "# usando mysql.connector utilizando try/except por si\n",
    "#  la conexión devuelve un error.\n",
    "\n",
    "try:\n",
    "        # conexión con el servidor:\n",
    "    cnx = mysql.connector.connect(\n",
    "        user='root', \n",
    "        password='AlumnaAdalab',\n",
    "        host='127.0.0.1',\n",
    "        database='BD_pruebas'\n",
    "        )\n",
    "    print(f\"La conexión a la BBDD se ha efectuado correctamente.\")\n",
    "    # iniciación el cursor:\n",
    "    mycursor = cnx.cursor()\n",
    "\n",
    "except:\n",
    "    print(f\"La conexión no se produjo.\")"
   ]
  }
 ],
 "metadata": {
  "kernelspec": {
   "display_name": "Python 3",
   "language": "python",
   "name": "python3"
  },
  "language_info": {
   "codemirror_mode": {
    "name": "ipython",
    "version": 3
   },
   "file_extension": ".py",
   "mimetype": "text/x-python",
   "name": "python",
   "nbconvert_exporter": "python",
   "pygments_lexer": "ipython3",
   "version": "3.11.9"
  }
 },
 "nbformat": 4,
 "nbformat_minor": 2
}
