{
 "cells": [
  {
   "cell_type": "markdown",
   "metadata": {},
   "source": [
    "# Introducción:\n",
    "\n",
    "En esta lección, exploraremos cómo utilizar SQL en conjunción con Python para llevar a cabo operaciones de extracción de datos. Aprenderemos a conectarnos a bases de datos, ejecutar consultas SQL para recuperar información específica, y luego procesar y utilizar esos datos dentro del entorno de Python. Ya sea que desees obtener información de una base de datos empresarial, extraer datos para análisis o realizar tareas de ETL (Extract, Transform, Load), esta lección te proporcionará las habilidades necesarias para realizar estas tareas de manera efectiva y eficiente."
   ]
  },
  {
   "cell_type": "markdown",
   "metadata": {},
   "source": [
    "#  Conexión a una Base de Datos MySQL desde Python:\n",
    "\n",
    "En esta sección, aprenderemos cómo establecer una conexión con una base de datos MySQL existente desde un script de Python utilizando el constructor de la clase `connect()`.\n",
    "\n",
    "El constructor `connect()` es esencial para crear una conexión con un servidor MySQL y devuelve un objeto de tipo `MySQLConnection`. A través de un ejemplo práctico, exploraremos cómo utilizarlo de manera efectiva.\n",
    "\n",
    "🚨🚨 **NOTA IMPORTANTE** 🚨🚨 Si encuentras un error al ejecutar la celda a continuación, sigue estos pasos en tu terminal:\n",
    "\n",
    "1. Ejecuta `pip install mysql-connector`.\n",
    "\n",
    "2. Luego, ejecuta `pip install mysql-connector-python`.\n",
    "\n",
    "Asegúrate de que la terminal muestra \"base\" y que en Jupyter, en la parte superior derecha, se muestra \"base (y la versión de Python)\". Después de estos pasos, vuelve a ejecutar la celda."
   ]
  },
  {
   "cell_type": "markdown",
   "metadata": {},
   "source": [
    "## Descripción de los Argumentos de *`connect()`:*\n",
    "\n",
    "Antes de comenzar, exploremos algunos de los argumentos clave que utilizaremos al conectar a una base de datos utilizando el constructor `connect()`.\n",
    "\n",
    "- `user`: Este argumento se refiere al nombre de usuario que se utilizará para autenticarse en el servidor MySQL.\n",
    "\n",
    "- `password`: Aquí debemos proporcionar la contraseña correspondiente al usuario para la autenticación en el servidor MySQL.\n",
    "\n",
    "- `database`: Es el nombre de la base de datos a la que deseamos conectarnos.\n",
    "\n",
    "- `host`: Este argumento se utiliza para especificar el nombre del servidor MySQL o la dirección IP a la que nos conectaremos. Por defecto, este valor es \"localhost\", que se refiere a la misma máquina en la que se ejecuta el código (127.0.0.1 es la dirección IP equivalente).\n",
    "\n",
    "- `port`: El puerto TCP/IP del servidor MySQL. Debe ser un número entero y, por defecto, se establece en 3306.\n",
    "\n",
    "\n",
    "Existen más argumentos que son opcionales o que se usarán cuando queramos configurar la conexión de una manera muy concreta. Podéis consultar la descripción de todos los parámetros [aquí](https://dev.mysql.com/doc/connector-python/en/connector-python-connectargs.html). "
   ]
  },
  {
   "cell_type": "code",
   "execution_count": null,
   "metadata": {},
   "outputs": [],
   "source": [
    "# Importar librería para la conexión con MySQL\n",
    "# -----------------------------------------------------------------------\n",
    "import mysql.connector\n",
    "from mysql.connector import errorcode\n",
    "\n",
    "\n",
    "# Importar librerías para manipulación y análisis de datos\n",
    "# -----------------------------------------------------------------------\n",
    "import pandas as pd\n",
    "import numpy as np\n"
   ]
  },
  {
   "cell_type": "code",
   "execution_count": null,
   "metadata": {},
   "outputs": [],
   "source": [
    "# ahora creamos la conexión con los argumentos:\n",
    "\n",
    "cnx = mysql.connector.connect(user='root', password='AlumnaAdalab',\n",
    "                              host='127.0.0.1',\n",
    "                              database='tienda')\n",
    "\n",
    "print(cnx)\n",
    "cnx.close()"
   ]
  },
  {
   "cell_type": "markdown",
   "metadata": {},
   "source": [
    "En ocasiones podemos sufrir errores de conexión, por lo que es interesante añadir manejo de excepciones al código anterior. Usando *errorcode* podemos crear casos para cada tipo de error posible:"
   ]
  },
  {
   "cell_type": "code",
   "execution_count": null,
   "metadata": {},
   "outputs": [],
   "source": [
    "# En este código estamos haciendo un try except. Si recordamos esto nos permitía hacer un manejo de los errores, para evitar que nuestro código se pare. Para eso lo que estamos haciendo es\n",
    "## intenta hacer la conexión son la base de datos de tienda \n",
    "try:\n",
    "  cnx = mysql.connector.connect(user='root', password='admin',\n",
    "                              host='127.0.0.1',\n",
    "                              database='tienda')\n",
    "# en caso de que no lo consigas por que hay algún error entonces ...\n",
    "except mysql.connector.Error as err:\n",
    "\n",
    "  # si es un error con la contraseña devuelveme un mensaje de acceso denegado ya que tenemos problemas con la contraseña\n",
    "  if err.errno == errorcode.ER_ACCESS_DENIED_ERROR:\n",
    "    print(\"Something is wrong with your user name or password\")\n",
    "  \n",
    "  # si el error no tiene que ver con la contraseña, puede ser porque la base de datos no exista, devuelveme un mensaje de que la base de datos no existe\n",
    "  elif err.errno == errorcode.ER_BAD_DB_ERROR:\n",
    "    print(\"Database does not exist\")\n",
    "  \n",
    "  # si no es por ninguno de los errores anteriores, printeame cual es el error que estoy teniendo en mi conexión\n",
    "  else:\n",
    "    print(err)\n",
    "else:\n",
    "  cnx.close()"
   ]
  },
  {
   "cell_type": "markdown",
   "metadata": {},
   "source": [
    "## Desconexión de la base de datos usando MySQLConnector\n",
    "\n",
    "Una vez hayamos terminado de realizar las consultas o trabajar de cualquier modo con la base de datos a la que nos hemos conectado con el connector, tendremos que desconectarnos usando el método *close()*:"
   ]
  },
  {
   "cell_type": "code",
   "execution_count": null,
   "metadata": {},
   "outputs": [],
   "source": [
    "# En este caso vamos a pasarle los atributos al conector usando un diccionario:\n",
    "\n",
    "config = {\n",
    "  'user': 'root',\n",
    "  'password': 'AlumnaAdalab',\n",
    "  'host': '127.0.0.1',\n",
    "  'database': 'tienda',\n",
    "  'raise_on_warnings': True\n",
    "}\n",
    "\n",
    "cnx = mysql.connector.connect(**config)\n",
    "\n",
    "cnx.close()"
   ]
  },
  {
   "cell_type": "markdown",
   "metadata": {},
   "source": [
    "En este fragmento de código, hemos establecido la conexión `cnx` con la base de datos \"tienda\". Con esta conexión, podemos llevar a cabo consultas sobre los datos almacenados en sus tablas (más adelante exploraremos cómo hacerlo). Cuando hayamos finalizado nuestras operaciones y deseemos desconectarnos, será necesario utilizar el método `close()` del objeto connector que hemos definido, en este caso llamado `cnx`. Es importante destacar que este método no requiere argumentos, lo que lo hace de uso sencillo."
   ]
  },
  {
   "cell_type": "markdown",
   "metadata": {},
   "source": [
    "# Realización de queries usando MySQLConnector:"
   ]
  },
  {
   "cell_type": "markdown",
   "metadata": {},
   "source": [
    "Una vez que creamos la conexión con mysql, vamos a usar el método *cursor()* y *execute()* para poder realizar las queries.\n",
    "\n",
    "El método cursor() se utiliza para crear un objeto de cursor, que es esencial para ejecutar consultas SQL en una conexión de base de datos. Una vez que tienes un objeto de cursor, puedes utilizar el método execute() para enviar una consulta SQL al servidor MySQL y ejecutarla."
   ]
  },
  {
   "cell_type": "code",
   "execution_count": null,
   "metadata": {},
   "outputs": [],
   "source": [
    "# realizamos la conexión con la BBDD que queremos\n",
    "cnx = mysql.connector.connect(user='root', password='admin',\n",
    "                              host='127.0.0.1',\n",
    "                              database='tienda')\n",
    "\n",
    "# iniciamos el cursor                               \n",
    "mycursor = cnx.cursor()\n",
    "\n",
    "# query de ejemplo:\n",
    "\n",
    "query = (\"\"\"SELECT city, state FROM customers \n",
    "         WHERE customer_number BETWEEN 121 AND 124\"\"\")\n",
    "\n",
    "# luego llamamos al método execute() del cursor, al que pasamos como argumento el string que contiene la consulta.\n",
    "## De esta manera se ejecuta la consulta en la base de datos y si todo va correctamente, el resultado se almacenará en el cursor.\n",
    "mycursor.execute(query)"
   ]
  },
  {
   "cell_type": "markdown",
   "metadata": {},
   "source": [
    "En el *execute()* podemos pasar cualquier tipo de query: crear tablas, alterar tablas, insertar datos,... vamos a verlo con unos ejemplos."
   ]
  },
  {
   "cell_type": "markdown",
   "metadata": {},
   "source": [
    "Vamos a aprovechar para introducir el manejo de excepciones a la hora de trabajar con MySQL Connector/Python."
   ]
  },
  {
   "cell_type": "markdown",
   "metadata": {},
   "source": [
    "- Crear Bases de Datos:"
   ]
  },
  {
   "cell_type": "code",
   "execution_count": null,
   "metadata": {},
   "outputs": [],
   "source": [
    "cnx = mysql.connector.connect(user='root', password='admin',\n",
    "                              host='127.0.0.1')\n",
    "\n",
    "\n",
    "mycursor = cnx.cursor()\n",
    "try:\n",
    "    mycursor.execute(\"CREATE DATABASE BD_pruebas\")\n",
    "    print(mycursor)\n",
    "except mysql.connector.Error as err:\n",
    "    print(err)\n",
    "    print(\"Error Code:\", err.errno)\n",
    "    print(\"SQLSTATE\", err.sqlstate)\n",
    "    print(\"Message\", err.msg)"
   ]
  },
  {
   "cell_type": "markdown",
   "metadata": {},
   "source": [
    "**Ojo:** al realizar la conexión, no le hemos indicado ninguna bases de datos, ya que la estamos creando.\n",
    "\n",
    "En este ejemplo, estamos estableciendo la conexión y creando el *cursor*, después intentamos crear la base de datos \"BD_pruebas\". Si no se puede crear, nos dará un mensaje con el error que ha ocurrido.\n",
    "\n",
    "Si ejecutamos dos veces esta celda, nos dará un aviso diendo que la base de datos ya existe."
   ]
  },
  {
   "cell_type": "markdown",
   "metadata": {},
   "source": [
    "- Creación de tablas:"
   ]
  },
  {
   "cell_type": "code",
   "execution_count": null,
   "metadata": {},
   "outputs": [],
   "source": [
    "cnx = mysql.connector.connect(user='root', password='AlumnaAdalab',\n",
    "                              host='127.0.0.1', database='BD_pruebas')\n",
    "\n",
    "\n",
    "mycursor = cnx.cursor()\n",
    "try:\n",
    "    mycursor.execute(\"CREATE TABLE customers (name VARCHAR(255), address VARCHAR(255))\")\n",
    "    print(mycursor)\n",
    "except mysql.connector.Error as err:\n",
    "    print(err)\n",
    "    print(\"Error Code:\", err.errno)\n",
    "    print(\"SQLSTATE\", err.sqlstate)\n",
    "    print(\"Message\", err.msg)"
   ]
  },
  {
   "cell_type": "markdown",
   "metadata": {},
   "source": [
    "Ahora sí hemos establecido la base de datos sobre la que estamos trabajando, por lo demás, este código es igual que el anterior, cambiando la query para crear una tabla en nuestra base de datos."
   ]
  },
  {
   "cell_type": "markdown",
   "metadata": {},
   "source": [
    "- Inserción de datos:"
   ]
  },
  {
   "cell_type": "markdown",
   "metadata": {},
   "source": [
    "Ahora que hemos completado la creación de una base de datos, hemos definido una tabla con sus columnas y restricciones correspondientes, estamos listos para comenzar a agregar registros a esta tabla."
   ]
  },
  {
   "cell_type": "code",
   "execution_count": null,
   "metadata": {},
   "outputs": [],
   "source": [
    "cnx = mysql.connector.connect(user='root', password='AlumnaAdalab',\n",
    "                              host='127.0.0.1', database='BD_pruebas')\n",
    "\n",
    "\n",
    "mycursor = cnx.cursor()\n",
    "query = \"INSERT INTO customers (name, address) VALUES (%s, %s)\"\n",
    "val = (\"Ana\", \"Calle 21\")\n",
    "try: \n",
    "    mycursor.execute(query, val)\n",
    "    cnx.commit()\n",
    "    print(mycursor.rowcount, \"registro insertado.\")\n",
    "\n",
    "except mysql.connector.Error as err:\n",
    "    print(err)\n",
    "    print(\"Error Code:\", err.errno)\n",
    "    print(\"SQLSTATE\", err.sqlstate)\n",
    "    print(\"Message\", err.msg)"
   ]
  },
  {
   "cell_type": "markdown",
   "metadata": {},
   "source": [
    "Seguimos trabajando sobre BD_pruebas. Ahora hemos definido nuestra query para la inserción de datos en la que hemos incluido `%s` por cada uno de los valores que vamos a introducir. Después, definimos una variable en la que van los datos que queremos insertar en forma de tupla.\n",
    "\n",
    "Esta vez, en el *execute()* hemos pasado dos argumentos: el primero con la query y el segundo con los valores."
   ]
  },
  {
   "cell_type": "markdown",
   "metadata": {},
   "source": [
    "**Uso de commit:** A la hora de trabajar con sentencias INSERT es necesario el uso de *commit()* para que los cambios se efectuen en la base de datos. De no llamar a ese método, las inserciones no se llevarán a cabo."
   ]
  },
  {
   "cell_type": "markdown",
   "metadata": {},
   "source": [
    "- Inserción de múltiples registros:"
   ]
  },
  {
   "cell_type": "markdown",
   "metadata": {},
   "source": [
    "En el ejemplo anterior hemos introducido una única fila en nuestra base de datos. Si queremos insertar múltiples filas tenemos que usar *executemany()* y definir una variable con todos los datos que queremos insertar en forma de lista de tuplas."
   ]
  },
  {
   "cell_type": "code",
   "execution_count": null,
   "metadata": {},
   "outputs": [],
   "source": [
    "cnx = mysql.connector.connect(user='root', password='AlumnaAdalab',\n",
    "                              host='127.0.0.1', database='BD_pruebas')\n",
    "\n",
    "\n",
    "mycursor = cnx.cursor()\n",
    "sql = \"INSERT INTO customers (name, address) VALUES (%s, %s)\"\n",
    "val = [\n",
    "  ('Ana', 'Lowstreet 4'),\n",
    "  ('Rocio', 'Apple st 652'),\n",
    "  ('Juana', 'Mountain 21'),\n",
    "  ('Pedro', 'Valley 345')\n",
    "]\n",
    "\n",
    "try: \n",
    "    mycursor.executemany(sql, val)\n",
    "    cnx.commit()\n",
    "    print(mycursor.rowcount, \"registro/s insertado/s.\")\n",
    "\n",
    "except mysql.connector.Error as err:\n",
    "    print(err)\n",
    "    print(\"Error Code:\", err.errno)\n",
    "    print(\"SQLSTATE\", err.sqlstate)\n",
    "    print(\"Message\", err.msg)"
   ]
  },
  {
   "cell_type": "markdown",
   "metadata": {},
   "source": [
    "- Eliminar registros de una tabla:"
   ]
  },
  {
   "cell_type": "markdown",
   "metadata": {},
   "source": [
    "**Uso de rollback:** Si después de haber realizado una transacción con *execute()* nos diésemos cuenta de que los datos que hemos introducido son incorrectos en alguna manera, si aún no hemos ejecutado *commit()* podríamos dar marcha atrás y desestimar los cambios usando *rollback()*:"
   ]
  },
  {
   "cell_type": "code",
   "execution_count": null,
   "metadata": {},
   "outputs": [],
   "source": [
    "cnx = mysql.connector.connect(user='root', password='AlumnaAdalab',\n",
    "                              host='127.0.0.1', database='BD_pruebas')\n",
    "\n",
    "\n",
    "mycursor = cnx.cursor()\n",
    "sql = \"INSERT INTO customers (name, address) VALUES (%s, %s)\"\n",
    "val = (\"Lucia\", \"Plaza 22\")\n",
    "try:\n",
    "    mycursor.execute(sql, val)\n",
    "    cnx.rollback()\n",
    "    print(mycursor.rowcount, \"registro no insertado.\")\n",
    "\n",
    "except mysql.connector.Error as err:\n",
    "    print(err)\n",
    "    print(\"Error Code:\", err.errno)\n",
    "    print(\"SQLSTATE\", err.sqlstate)\n",
    "    print(\"Message\", err.msg)\n",
    "\n",
    "mycursor.execute(\"SELECT * FROM customers\")  \n",
    "results = mycursor.fetchall()\n",
    "print(results)"
   ]
  },
  {
   "cell_type": "markdown",
   "metadata": {},
   "source": [
    "Si ya hemos ejecutado *commit()* y queremos eliminar un registro de una tabla existente, usaremos *execute()* con la sentencia \"DELETE FROM\" de la siguiente manera:"
   ]
  },
  {
   "cell_type": "code",
   "execution_count": null,
   "metadata": {},
   "outputs": [],
   "source": [
    "cnx = mysql.connector.connect(user='root', password='AlumnaAdalab',\n",
    "                              host='127.0.0.1', database='BD_pruebas')\n",
    "\n",
    "\n",
    "mycursor = cnx.cursor()\n",
    "sql = \"DELETE FROM customers WHERE address = 'Calle 21'\"\n",
    "try:\n",
    "    mycursor.execute(sql)\n",
    "    cnx.commit()\n",
    "    print(mycursor.rowcount, \"registro/s eliminado/s\")\n",
    "\n",
    "except mysql.connector.Error as err:\n",
    "    print(err)\n",
    "    print(\"Error Code:\", err.errno)\n",
    "    print(\"SQLSTATE\", err.sqlstate)\n",
    "    print(\"Message\", err.msg)"
   ]
  },
  {
   "cell_type": "markdown",
   "metadata": {},
   "source": [
    "- Actualizar una tabla:"
   ]
  },
  {
   "cell_type": "markdown",
   "metadata": {},
   "source": [
    "También podemos actualizar registros de la misma forma que lo haríamos en SQL con la sentencia \"UPDATE\":"
   ]
  },
  {
   "cell_type": "code",
   "execution_count": null,
   "metadata": {},
   "outputs": [],
   "source": [
    "cnx = mysql.connector.connect(user='root', password='AlumnaAdalab',\n",
    "                              host='127.0.0.1', database='BD_pruebas')\n",
    "\n",
    "\n",
    "mycursor = cnx.cursor()\n",
    "sql = \"UPDATE customers SET address = 'Canyon 123' WHERE address = 'Valley 345'\"\n",
    "try:\n",
    "    mycursor.execute(sql)\n",
    "    cnx.commit()\n",
    "    print(mycursor.rowcount, \"registro/s modificado/s.\")\n",
    "\n",
    "except mysql.connector.Error as err:\n",
    "    print(err)\n",
    "    print(\"Error Code:\", err.errno)\n",
    "    print(\"SQLSTATE\", err.sqlstate)\n",
    "    print(\"Message\", err.msg)"
   ]
  },
  {
   "cell_type": "markdown",
   "metadata": {},
   "source": [
    "**NOTA:** siempre que hagamos cualquier modificación sobre los registros tenemos que usar *commit()* para que esos cambios se hagan efectivos."
   ]
  },
  {
   "cell_type": "markdown",
   "metadata": {},
   "source": [
    "# Modos de acceso a los resultados de la consulta:"
   ]
  },
  {
   "cell_type": "markdown",
   "metadata": {},
   "source": [
    "El uso de *execute()* convierte el *cursor* en un iterable al que podemos acceder de varias maneras. Podemos recorrer sus elementos uno por uno como si fuera una lista utilizando un bucle for. "
   ]
  },
  {
   "cell_type": "code",
   "execution_count": null,
   "metadata": {},
   "outputs": [],
   "source": [
    "# conectamos con el servidor\n",
    "cnx = mysql.connector.connect(\n",
    "              user='root', password='AlumnaAdalab',\n",
    "              host='127.0.0.1',\n",
    "              database='tienda'\n",
    ")\n",
    "\n",
    "# creamos el servidor\n",
    "mycursor = cnx.cursor()\n",
    "\n",
    "# ejecutamos la query para ver las tablas de la BBDD que hemos indicado en la conexión\n",
    "mycursor.execute(\"SHOW TABLES\")\n",
    "\n",
    "for x in mycursor:\n",
    "  print(x)"
   ]
  },
  {
   "cell_type": "markdown",
   "metadata": {},
   "source": [
    "En el ejemplo vemos como iterando por el *cursor* hemos accedido a todos los resultados de la query uno por uno y nos lo devuelve en forma de tupla.\n",
    "Sin embargo, MySQL Connector/Python también proporciona formas específicas de hacerlo de manera más eficiente y conveniente.\n",
    "\n",
    "## Método fetchone()\n",
    "\n",
    "Si deseamos acceder a la primera fila del resultado, podemos utilizar el método *fetchone()*. Este método recuperará la primera fila del resultado de la consulta y avanzará el cursor al siguiente registro. Como resultado, la próxima vez que utilicemos el método *fetchone()* en el mismo cursor, se mostrarán datos diferentes. Veámoslo con un ejemplo:"
   ]
  },
  {
   "cell_type": "code",
   "execution_count": null,
   "metadata": {},
   "outputs": [],
   "source": [
    "# conectamos con el servidor\n",
    "cnx = mysql.connector.connect(\n",
    "  host=\"localhost\",\n",
    "  user=\"root\",\n",
    "  password=\"admin\",\n",
    "  database=\"tienda\"\n",
    ")\n",
    "\n",
    "# iniciamos el cursor\n",
    "mycursor = cnx.cursor()\n",
    "\n",
    "# ejecutamos nuestra query\n",
    "mycursor.execute(\"SELECT * FROM employees\")\n",
    "\n",
    "# en este caso solo nos interesa el primer resultado de nuestra query, por lo que usaremos el método fetchone, para que python solo nos devuelva el primero y después printemos el resultado\n",
    "myresult = mycursor.fetchone()\n",
    "print(\"el resultado 1 es: \", myresult)\n",
    "\n",
    "# volvemos a ejecutar el método fetchone, como ya nos mostró el primer resultado, y no hemos cerrado la conexión, al volver a ejecutarlo, nos mostrará el segundo resultado. Pero si nos fijamos, lo hace de uno en uno. \n",
    "myresult = mycursor.fetchone()\n",
    "print(\"el resultado 2 es: \",myresult)"
   ]
  },
  {
   "cell_type": "markdown",
   "metadata": {},
   "source": [
    "**Ojo:** si no cerramos la conexión, cada vez que ejecutemos *fetchone()* pasará al siguiente registro y nos irá devolviendo los datos uno a uno."
   ]
  },
  {
   "cell_type": "markdown",
   "metadata": {},
   "source": [
    "## Método fetchall()\n",
    "\n",
    "En cambio, si deseamos seleccionar todos los resultados devueltos por una consulta SQL, podemos utilizar el método *fetchall()*:"
   ]
  },
  {
   "cell_type": "code",
   "execution_count": null,
   "metadata": {},
   "outputs": [],
   "source": [
    "# conectamos con el servidor\n",
    "cnx = mysql.connector.connect(\n",
    "  host=\"localhost\",\n",
    "  user=\"root\",\n",
    "  password=\"AlumnaAdalab\",\n",
    "  database=\"tienda\"\n",
    ")\n",
    "\n",
    "# iniciamos el cursor\n",
    "mycursor = cnx.cursor()\n",
    "\n",
    "# realizamos nuestra query\n",
    "mycursor.execute(\"SELECT * FROM employees\")\n",
    "\n",
    "# le decimos a Python que nos devuelva todos los resultados de la query usando el método fetchall\n",
    "myresult = mycursor.fetchall()\n",
    "print(myresult)"
   ]
  },
  {
   "cell_type": "markdown",
   "metadata": {},
   "source": [
    "Podemos ver que nos devuelve una lista de tuplas, en la que cada tupla es una fila de nuestra consulta."
   ]
  },
  {
   "cell_type": "markdown",
   "metadata": {},
   "source": [
    "Si quisieramos acceder a cada registro de los resultados, podemos hacerlo usando myresult como un iterable. Esto nos devolverá cada fila resultado como una tupla:"
   ]
  },
  {
   "cell_type": "code",
   "execution_count": null,
   "metadata": {},
   "outputs": [],
   "source": [
    "# conectamos con el servidor\n",
    "cnx = mysql.connector.connect(\n",
    "  host=\"localhost\",\n",
    "  user=\"root\",\n",
    "  password=\"AlumnaAdalab\",\n",
    "  database=\"tienda\"\n",
    ")\n",
    "\n",
    "# iniciamos el cursor\n",
    "mycursor = cnx.cursor()\n",
    "\n",
    "# realizamos la query\n",
    "mycursor.execute(\"SELECT * FROM employees\")\n",
    "\n",
    "# le pedimos que almacene todos los resultados\n",
    "myresult = mycursor.fetchall()\n",
    "\n",
    "# accedemos a cada fila de una en una usando un bucle for. Fijaos que nos devuelve tuplas!!!\n",
    "for x in myresult:\n",
    "  print(x)"
   ]
  },
  {
   "cell_type": "markdown",
   "metadata": {},
   "source": [
    "# Integración de resultados de MySQL Connector/Python con Pandas"
   ]
  },
  {
   "cell_type": "markdown",
   "metadata": {},
   "source": [
    "**¿Qué es Pandas?**\n",
    "\n",
    "Pandas es una destacada biblioteca de Python que se utiliza ampliamente en la gestión y manipulación de datos. Es especialmente útil cuando se trabaja con datos estructurados dispuestos en forma de tablas, como los que se almacenan en bases de datos SQL o hojas de cálculo de Excel. Pandas permite cargar, limpiar y procesar estos datos, extrayendo información valiosa y combinando diversas fuentes de datos, entre muchas otras tareas.\n",
    "La estructura fundamental para trabajar con datos en Pandas se denomina DataFrame.\n",
    "\n",
    "En esta sección de la lección, exploraremos cómo importar datos desde una base de datos MySQL a un DataFrame de Pandas y realizaremos algunas operaciones simples con estos datos. En lecciones futuras, profundizaremos en Pandas y su uso en detalle. El propósito de los ejemplos que siguen es brindarte una comprensión sólida de cómo integrar MySQL Connector/Python con Pandas."
   ]
  },
  {
   "cell_type": "markdown",
   "metadata": {},
   "source": [
    "## Crear un DataFrame de Pandas desde una sentencia SQL:\n",
    "\n",
    "Como mencionamos anteriormente, Pandas ofrece una integración sencilla con una variedad de formatos de archivo y fuentes de datos, como archivos CSV, Excel, JSON y bases de datos SQL, entre otros. Por ejemplo, para cargar datos desde una base de datos SQL, puedes ejecutar el siguiente fragmento de código, que incluye una llamada al constructor de DataFrames:"
   ]
  },
  {
   "cell_type": "code",
   "execution_count": null,
   "metadata": {},
   "outputs": [],
   "source": [
    "# primero tenemos que importar la libría\n",
    "\n",
    "import pandas as pd"
   ]
  },
  {
   "cell_type": "code",
   "execution_count": null,
   "metadata": {},
   "outputs": [],
   "source": [
    "# hacemos la conexión con el servidor\n",
    "cnx = mysql.connector.connect(user='root', password='admin',\n",
    "                              host='127.0.0.1',\n",
    "                              database='tienda')\n",
    "\n",
    "# iniciamos el cursor\n",
    "mycursor = cnx.cursor()\n",
    "\n",
    "# ejecutamos nuestra query\n",
    "mycursor.execute(\"SELECT * FROM employees\")\n",
    "\n",
    "# le decimos que nos devuelva todos los resultados y los almacenamos en una variable llamada myresult\n",
    "myresult = mycursor.fetchall()\n",
    "\n",
    "#Creamos un dataframe con los resultados de la consulta SQL almacenados en myresult. Si os fijais le estamos pasando un parámetro llamado \"columns\" donde estamos especificando cuáles son las columnas de lo que será nuestro dataframe\n",
    "df = pd.DataFrame(myresult, columns = ['ID', 'Nombre', 'Apellido','Email','Telefono','Direccion','Ciudad','Pais'])\n",
    "\n",
    "#Cerramos la conexion\n",
    "cnx.close()"
   ]
  },
  {
   "cell_type": "code",
   "execution_count": null,
   "metadata": {},
   "outputs": [],
   "source": [
    "# mostramos las primeras filas del dataframe usando el método .head()\n",
    "\n",
    "df.head()"
   ]
  },
  {
   "cell_type": "markdown",
   "metadata": {},
   "source": [
    "Otra opción más directa para ver los resultados de nuestra query en un DataFrame consiste en encargarle a Pandas directamente la ejecución de la consulta SQL. Para ello usaremos el método *read_sql_query()* como vemos a continuación:"
   ]
  },
  {
   "cell_type": "code",
   "execution_count": null,
   "metadata": {},
   "outputs": [],
   "source": [
    "# realizamos la conexión con el servidor\n",
    "cnx = mysql.connector.connect(user='root', password='AlumnaAdalab',\n",
    "                              host='127.0.0.1',\n",
    "                              database='tienda')\n",
    "\n",
    "\n",
    "# escribimos nuestra query\n",
    "sql = \"SELECT * FROM employees\"\n",
    "\n",
    "# utilizamos el método pd.read_sql_qury() para convertir los resultados de nuestra query en un DataFrame que podamos ver de forma amigable en Python\n",
    "df = pd.read_sql_query(sql, cnx)\n",
    "\n",
    "#Lo siguiente es un wrap up que funciona tanto con una tabla como con una consulta SQL.\n",
    "#pd.read_sql(sql, cnx)\n",
    "\n",
    "#Cerramos la conexion\n",
    "cnx.close()"
   ]
  },
  {
   "cell_type": "code",
   "execution_count": null,
   "metadata": {},
   "outputs": [],
   "source": [
    "# mostramos las primeras filas del dataframe usando el método .head()\n",
    "\n",
    "df.head()"
   ]
  },
  {
   "cell_type": "markdown",
   "metadata": {},
   "source": [
    "## Guardado de datos:"
   ]
  },
  {
   "cell_type": "markdown",
   "metadata": {},
   "source": [
    "Una vez que tenemos nuestro Dataframe podemos guardarlo en diferentes formatos. En este caso lo vamos a guardar en *csv*:"
   ]
  },
  {
   "cell_type": "code",
   "execution_count": null,
   "metadata": {},
   "outputs": [],
   "source": [
    "df.to_csv(\"fichero.csv\")"
   ]
  },
  {
   "cell_type": "markdown",
   "metadata": {},
   "source": [
    "Para poder guardarlo, usamos *.to_csv()* y especificamos el nombre de nuestro fichero con la extensión. Más adelante aprenderemos cómo guardar los datos en diferentes formatos."
   ]
  },
  {
   "cell_type": "markdown",
   "metadata": {},
   "source": [
    "## Intro Pandas"
   ]
  },
  {
   "cell_type": "markdown",
   "metadata": {},
   "source": [
    "Pandas, la biblioteca de Python dedicada a la gestión y análisis de datos, se destaca por sus numerosas características fundamentales:\n",
    "\n",
    "- Introduce innovadoras estructuras de datos basadas en los arrays de NumPy, enriqueciéndolas con capacidades avanzadas.\n",
    "\n",
    "- Facilita la lectura y escritura de datos en formatos populares como CSV, Excel y bases de datos SQL, simplificando la manipulación de datos externos.\n",
    "\n",
    "- Proporciona una accesibilidad excepcional a los datos a través de índices y etiquetas para filas y columnas, simplificando la navegación en conjuntos de datos complejos.\n",
    "\n",
    "- Ofrece una amplia gama de métodos para reorganizar, dividir y fusionar conjuntos de datos, lo que agiliza la manipulación de datos según tus necesidades.\n",
    "\n",
    "- Permite un manejo eficiente de series temporales, lo que resulta esencial para el análisis de datos relacionados con el tiempo.\n",
    "\n",
    "En este apartado vamos a aprender a utilizar métodos como head(), tail(), describe(), entre otros, para obtener información relevante de los datos. Estos métodos te permitirán examinar rápidamente la estructura de tus datos y comprender sus estadísticas clave.\n",
    "\n",
    "\n",
    "Empezamos por importar las librerías que vamos a usar:"
   ]
  },
  {
   "cell_type": "markdown",
   "metadata": {},
   "source": [
    "### Principales métodos de Pandas:"
   ]
  },
  {
   "cell_type": "markdown",
   "metadata": {},
   "source": [
    "- Métodos para exploración básica del *DataFrame*: \n",
    "\n",
    "    - `.head()`\n",
    "    - `.tail()`\n",
    "    - `.sample()`\n",
    "    - `.describe()`\n",
    "    - `.duplicated()`\n",
    "    - `.isnull()`\n",
    "    - `.isna()`\n",
    "    - `.info()`\n",
    "    - `.columns`"
   ]
  },
  {
   "cell_type": "markdown",
   "metadata": {},
   "source": [
    "- `.head()`\n",
    "\n",
    "Muestra las primeras líneas de nuestro Dataframe. Por defecto nos enseña 5."
   ]
  },
  {
   "cell_type": "code",
   "execution_count": null,
   "metadata": {},
   "outputs": [],
   "source": [
    "df.head()"
   ]
  },
  {
   "cell_type": "code",
   "execution_count": null,
   "metadata": {},
   "outputs": [],
   "source": [
    "# si queremos ver un número diferente de filas, se lo podemos especificar\n",
    "\n",
    "df.head(9)"
   ]
  },
  {
   "cell_type": "markdown",
   "metadata": {},
   "source": [
    "- `.tail()`\n",
    "\n",
    "Devuelve las últimas 5 filas del Dataframe. Al igual que con `.head()`, podemos especificar un número diferente."
   ]
  },
  {
   "cell_type": "code",
   "execution_count": null,
   "metadata": {},
   "outputs": [],
   "source": [
    "df.tail()"
   ]
  },
  {
   "cell_type": "code",
   "execution_count": null,
   "metadata": {},
   "outputs": [],
   "source": [
    "df.tail(7)"
   ]
  },
  {
   "cell_type": "markdown",
   "metadata": {},
   "source": [
    "- `.sample()`\n",
    "\n",
    "Muestra filas aleatorias. Por defecto nos devuelve 1, pero también le podemos dar un valor diferente."
   ]
  },
  {
   "cell_type": "code",
   "execution_count": null,
   "metadata": {},
   "outputs": [],
   "source": [
    "df.sample()"
   ]
  },
  {
   "cell_type": "code",
   "execution_count": null,
   "metadata": {},
   "outputs": [],
   "source": [
    "df.sample(4)"
   ]
  },
  {
   "cell_type": "markdown",
   "metadata": {},
   "source": [
    "- `describe()`\n",
    "\n",
    "Nos devuelve un *DataFrame* con un resumen de los principales estadísticos (media, mediana, desviacón estándar etc.) de nuestras **columnas numéricas**."
   ]
  },
  {
   "cell_type": "code",
   "execution_count": null,
   "metadata": {},
   "outputs": [],
   "source": [
    "df.describe()"
   ]
  },
  {
   "cell_type": "markdown",
   "metadata": {},
   "source": [
    "Si queremos ver el `.describe()`de las variables categóricas, tenemos que incluir `include = \"object\"`. Podemos ver que nos devuelve diferentes estadísticas que para las numéricas.\n",
    "\n",
    "- count: El número total de valores no nulos en la columna.\n",
    "- unique: El número de valores únicos en la columna.\n",
    "- top: El valor más frecuente en la columna.\n",
    "- freq: La frecuencia del valor más común (el número de veces que aparece)."
   ]
  },
  {
   "cell_type": "code",
   "execution_count": null,
   "metadata": {},
   "outputs": [],
   "source": [
    "df.describe(include=\"object\")"
   ]
  },
  {
   "cell_type": "markdown",
   "metadata": {},
   "source": [
    "- `duplicated()`\n",
    "\n",
    "Devuelve una Serie booleana que indica si cada fila es un duplicado de una fila previamente vista."
   ]
  },
  {
   "cell_type": "code",
   "execution_count": null,
   "metadata": {},
   "outputs": [],
   "source": [
    "df.duplicated()"
   ]
  },
  {
   "cell_type": "markdown",
   "metadata": {},
   "source": [
    "Si queremos ver el número de filas duplicadas de nuestro Dataframe tenemos que usar `.sum()`"
   ]
  },
  {
   "cell_type": "code",
   "execution_count": null,
   "metadata": {},
   "outputs": [],
   "source": [
    "df.duplicated().sum()"
   ]
  },
  {
   "cell_type": "markdown",
   "metadata": {},
   "source": [
    "- `isnull()` / - `isna()`:\n",
    "\n",
    "Estos son los métodos para ver los valores nulos que tenemos en nuestros datos, podemos usar cualquiera de ellos ya que hacen lo mismo.\n",
    "\n",
    "Nos devuelve un booleano con los valores que faltan en nuestro DataFrame."
   ]
  },
  {
   "cell_type": "code",
   "execution_count": null,
   "metadata": {},
   "outputs": [],
   "source": [
    "df.isnull()"
   ]
  },
  {
   "cell_type": "markdown",
   "metadata": {},
   "source": [
    "Al igual que con los duplicados, podemos usar `.sum()` para poder entender mejor el resultado. Ahora nos devuelve el número de valores nulos por cada columna."
   ]
  },
  {
   "cell_type": "code",
   "execution_count": null,
   "metadata": {},
   "outputs": [],
   "source": [
    "df.isnull().sum()"
   ]
  },
  {
   "cell_type": "markdown",
   "metadata": {},
   "source": [
    "- `info()`\n",
    "\n",
    "El método `info()` proporciona un pequeño resumen que incluye:\n",
    "\n",
    "- El total de columnas en el DataFrame.\n",
    "- Los nombres de las columnas.\n",
    "- La cantidad de valores no nulos en cada columna.\n",
    "- El tipo de datos de cada columna en el DataFrame."
   ]
  },
  {
   "cell_type": "code",
   "execution_count": null,
   "metadata": {},
   "outputs": [],
   "source": [
    "df.info()"
   ]
  },
  {
   "cell_type": "markdown",
   "metadata": {},
   "source": [
    "- `columns`\n",
    "\n",
    "Nos muestra el nombre de las columnas de nuestro *DataFrame* ."
   ]
  },
  {
   "cell_type": "code",
   "execution_count": null,
   "metadata": {},
   "outputs": [],
   "source": [
    "df.columns"
   ]
  },
  {
   "cell_type": "markdown",
   "metadata": {},
   "source": [
    "## Ejercicios:"
   ]
  },
  {
   "cell_type": "markdown",
   "metadata": {},
   "source": [
    "1. Haz las importaciones necesarias para establecer la conxión y trabaar con Pandas.Establece la conexión usando mysql.connector utilizando try/except por si la conexión devielve un error."
   ]
  },
  {
   "cell_type": "markdown",
   "metadata": {},
   "source": [
    "2. Crea un nuevo \"schema\" llamado \"alumnas-promo-X\""
   ]
  },
  {
   "cell_type": "markdown",
   "metadata": {},
   "source": [
    "3. Crea una tabla con la información de las alumnas de la promo. Debe incluir: id_alumna, nombre, apellidos, ciudad y teléfono."
   ]
  },
  {
   "cell_type": "markdown",
   "metadata": {},
   "source": [
    "4. Inserta por lo menos 10 datos en la tabla creada en el ejercicio anterior (pueden ser inventados)."
   ]
  },
  {
   "cell_type": "markdown",
   "metadata": {},
   "source": [
    "5. Haz una consulta que devuelva todos los registros de la tabla \"alumnas\" y conviértelo en Dataframe (no te olvides del nombre de las columnas)."
   ]
  },
  {
   "cell_type": "markdown",
   "metadata": {},
   "source": [
    "6. Muestra los 3 primeros y tres últimos registros del Dataframe."
   ]
  },
  {
   "cell_type": "markdown",
   "metadata": {},
   "source": [
    "7. ¿Hay registros duplicados?"
   ]
  },
  {
   "cell_type": "markdown",
   "metadata": {},
   "source": [
    "### Bonus:"
   ]
  },
  {
   "cell_type": "markdown",
   "metadata": {},
   "source": [
    "8. Haz una consulta para extraer las diferentes ciudades en las que hay alumnas.\n"
   ]
  },
  {
   "cell_type": "markdown",
   "metadata": {},
   "source": [
    "9. Crea al menos dos Dataframes con la información de las alumnas de dos ciudades diferentes (usando dos queries)."
   ]
  }
 ],
 "metadata": {
  "kernelspec": {
   "display_name": "Python 3 (ipykernel)",
   "language": "python",
   "name": "python3"
  },
  "language_info": {
   "codemirror_mode": {
    "name": "ipython",
    "version": 3
   },
   "file_extension": ".py",
   "mimetype": "text/x-python",
   "name": "python",
   "nbconvert_exporter": "python",
   "pygments_lexer": "ipython3",
   "version": "3.10.11"
  },
  "toc": {
   "base_numbering": 1,
   "nav_menu": {},
   "number_sections": true,
   "sideBar": true,
   "skip_h1_title": false,
   "title_cell": "Table of Contents",
   "title_sidebar": "Contents",
   "toc_cell": false,
   "toc_position": {
    "height": "calc(100% - 180px)",
    "left": "10px",
    "top": "150px",
    "width": "384px"
   },
   "toc_section_display": true,
   "toc_window_display": true
  },
  "vscode": {
   "interpreter": {
    "hash": "45f2e19768680f736caea9664c7aaaad3b325a359584ead4873ebd33db26fb52"
   }
  }
 },
 "nbformat": 4,
 "nbformat_minor": 2
}
